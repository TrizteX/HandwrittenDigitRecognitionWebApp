{
  "nbformat": 4,
  "nbformat_minor": 0,
  "metadata": {
    "colab": {
      "name": "HandwrittenDigitRecognition.ipynb",
      "provenance": [],
      "toc_visible": true
    },
    "kernelspec": {
      "name": "python3",
      "display_name": "Python 3"
    }
  },
  "cells": [
    {
      "cell_type": "markdown",
      "metadata": {
        "id": "UYDNUpVh56EU"
      },
      "source": [
        "# **Importing required libraries**"
      ]
    },
    {
      "cell_type": "code",
      "metadata": {
        "id": "Y4EG8Fwe57rj"
      },
      "source": [
        "import numpy as np\n",
        "import matplotlib.pyplot as plt\n",
        "import tensorflow as tf"
      ],
      "execution_count": 2,
      "outputs": []
    },
    {
      "cell_type": "markdown",
      "metadata": {
        "id": "YVycPHyf6ov5"
      },
      "source": [
        "# **Importing the MNIST Dataset for Handwritten Digit Recognition**"
      ]
    },
    {
      "cell_type": "code",
      "metadata": {
        "id": "1RHMH6-G62GU"
      },
      "source": [
        "mnist=tf.keras.datasets.mnist"
      ],
      "execution_count": 4,
      "outputs": []
    },
    {
      "cell_type": "markdown",
      "metadata": {
        "id": "_HyxMbJM6__P"
      },
      "source": [
        "# **Splitting the data into Train and Test Set and normalizing them**"
      ]
    },
    {
      "cell_type": "code",
      "metadata": {
        "id": "ZcZ_WRbN7QqR",
        "outputId": "2bec8a8c-beed-42fb-ae1e-289f2701c7c7",
        "colab": {
          "base_uri": "https://localhost:8080/",
          "height": 51
        }
      },
      "source": [
        "(x_train, y_train), (x_test, y_test) = mnist.load_data()     \n",
        "x_train = tf.keras.utils.normalize(x_train, axis=1)\n",
        "x_test = tf.keras.utils.normalize(x_test, axis=1)"
      ],
      "execution_count": 5,
      "outputs": [
        {
          "output_type": "stream",
          "text": [
            "Downloading data from https://storage.googleapis.com/tensorflow/tf-keras-datasets/mnist.npz\n",
            "11493376/11490434 [==============================] - 0s 0us/step\n"
          ],
          "name": "stdout"
        }
      ]
    },
    {
      "cell_type": "markdown",
      "metadata": {
        "id": "v2zrmv6B7f6J"
      },
      "source": [
        "# **Defining the neural network with an input layer, two hidden layers and an output layer**"
      ]
    },
    {
      "cell_type": "code",
      "metadata": {
        "id": "Kj8aji0K7qYt"
      },
      "source": [
        "model=tf.keras.models.Sequential([\n",
        "          tf.keras.layers.Flatten(input_shape=(28,28)),   \n",
        "          tf.keras.layers.Dense(units=128,activation=tf.nn.relu),   \n",
        "          tf.keras.layers.Dense(units=128,activation=tf.nn.relu),   \n",
        "          tf.keras.layers.Dense(units=10,activation=tf.nn.softmax)\n",
        "      ])\n",
        "model.compile(optimizer='adam',loss='binary_crossentropy',metrics=['accuracy'])"
      ],
      "execution_count": 14,
      "outputs": []
    },
    {
      "cell_type": "markdown",
      "metadata": {
        "id": "shDB_KxJ749A"
      },
      "source": [
        "# **Training the Model**"
      ]
    },
    {
      "cell_type": "code",
      "metadata": {
        "id": "wYoEyeJA7-Cq",
        "outputId": "0d4a8693-11cf-4dc1-c42d-40055e4de1a8",
        "colab": {
          "base_uri": "https://localhost:8080/",
          "height": 204
        }
      },
      "source": [
        "model.compile(optimizer='adam',loss='sparse_categorical_crossentropy',metrics=['accuracy'])\n",
        "model.fit(x_train,y_train,epochs=5)"
      ],
      "execution_count": 15,
      "outputs": [
        {
          "output_type": "stream",
          "text": [
            "Epoch 1/5\n",
            "1875/1875 [==============================] - 4s 2ms/step - loss: 0.2665 - accuracy: 0.9212\n",
            "Epoch 2/5\n",
            "1875/1875 [==============================] - 4s 2ms/step - loss: 0.1075 - accuracy: 0.9665\n",
            "Epoch 3/5\n",
            "1875/1875 [==============================] - 4s 2ms/step - loss: 0.0731 - accuracy: 0.9771\n",
            "Epoch 4/5\n",
            "1875/1875 [==============================] - 4s 2ms/step - loss: 0.0547 - accuracy: 0.9831\n",
            "Epoch 5/5\n",
            "1875/1875 [==============================] - 4s 2ms/step - loss: 0.0401 - accuracy: 0.9870\n"
          ],
          "name": "stdout"
        },
        {
          "output_type": "execute_result",
          "data": {
            "text/plain": [
              "<tensorflow.python.keras.callbacks.History at 0x7ff4d7935780>"
            ]
          },
          "metadata": {
            "tags": []
          },
          "execution_count": 15
        }
      ]
    },
    {
      "cell_type": "markdown",
      "metadata": {
        "id": "Tb3zzR7c8ZgW"
      },
      "source": [
        "# **Testing our model on x_test and calculating performance metrics on the Test Set**"
      ]
    },
    {
      "cell_type": "code",
      "metadata": {
        "id": "A4g_nw1F89sK",
        "outputId": "f123fd32-8c1c-4a39-fc4a-cfae04e98bd0",
        "colab": {
          "base_uri": "https://localhost:8080/",
          "height": 238
        }
      },
      "source": [
        "y_pred = model.predict(x_test)\n",
        "y_pred"
      ],
      "execution_count": 16,
      "outputs": [
        {
          "output_type": "execute_result",
          "data": {
            "text/plain": [
              "array([[1.4795325e-10, 1.7486268e-10, 1.0466767e-07, ..., 9.9999988e-01,\n",
              "        4.2716729e-11, 3.2030443e-09],\n",
              "       [6.0774934e-11, 9.3260474e-05, 9.9990654e-01, ..., 5.4021698e-10,\n",
              "        9.9329514e-09, 8.1218495e-13],\n",
              "       [4.3179924e-10, 9.9999273e-01, 1.0487961e-06, ..., 4.7345516e-06,\n",
              "        6.8220920e-08, 4.5402391e-08],\n",
              "       ...,\n",
              "       [3.2844753e-13, 3.8346002e-08, 1.1769129e-10, ..., 2.6874857e-06,\n",
              "        6.5114385e-08, 8.7992747e-05],\n",
              "       [5.0371515e-08, 9.0370180e-05, 5.3776166e-09, ..., 1.4873401e-06,\n",
              "        1.4615327e-02, 5.1012472e-07],\n",
              "       [4.2338417e-09, 4.8646456e-08, 5.5530806e-11, ..., 7.1753242e-13,\n",
              "        2.5254001e-09, 1.1791937e-10]], dtype=float32)"
            ]
          },
          "metadata": {
            "tags": []
          },
          "execution_count": 16
        }
      ]
    },
    {
      "cell_type": "code",
      "metadata": {
        "id": "wdOkdZK68gcv",
        "outputId": "59c14a3f-3f8c-42dd-e46d-8f4066394a32",
        "colab": {
          "base_uri": "https://localhost:8080/",
          "height": 34
        }
      },
      "source": [
        "loss,accuracy=model.evaluate(x_test,y_test)"
      ],
      "execution_count": 17,
      "outputs": [
        {
          "output_type": "stream",
          "text": [
            "313/313 [==============================] - 0s 1ms/step - loss: 0.0882 - accuracy: 0.9756\n"
          ],
          "name": "stdout"
        }
      ]
    }
  ]
}
